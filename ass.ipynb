{
 "cells": [
  {
   "cell_type": "markdown",
   "id": "bcc1d517",
   "metadata": {},
   "source": []
  },
  {
   "cell_type": "code",
   "execution_count": null,
   "id": "81b15ece",
   "metadata": {},
   "outputs": [],
   "source": []
  },
  {
   "cell_type": "code",
   "execution_count": null,
   "id": "02259b8b",
   "metadata": {},
   "outputs": [],
   "source": [
    "print(\"gfdjhfk\")"
   ]
  }
 ],
 "metadata": {
  "language_info": {
   "name": "python"
  }
 },
 "nbformat": 4,
 "nbformat_minor": 5
}
